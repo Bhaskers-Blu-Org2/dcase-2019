{
 "cells": [
  {
   "cell_type": "code",
   "execution_count": null,
   "metadata": {},
   "outputs": [],
   "source": [
    "import re, os\n",
    "\n",
    "import gzip\n",
    "\n",
    "from matplotlib import pyplot as plt\n",
    "import numpy as np\n",
    "from sklearn.externals import joblib"
   ]
  },
  {
   "cell_type": "code",
   "execution_count": null,
   "metadata": {},
   "outputs": [],
   "source": [
    "pkl_path = r\"D:\\DCASE_2019\\audio\\features\\vggish\"\n",
    "ol3_path = r\"D:\\repos\\Data-Processing\\audio\\test_openl3\"\n",
    "label_names = joblib.load('label_order.pkl')\n",
    "label_names = [re.sub('_presence', '', label_names[i]) for i in range(len(label_names))]"
   ]
  },
  {
   "cell_type": "code",
   "execution_count": null,
   "metadata": {},
   "outputs": [],
   "source": [
    "all_files = os.listdir(pkl_path)\n",
    "sample_file = os.path.join(pkl_path, all_files[0])\n",
    "sample_file = gzip.GzipFile(sample_file, \"r\")\n",
    "sample_file = np.load(sample_file, allow_pickle=True)"
   ]
  },
  {
   "cell_type": "code",
   "execution_count": null,
   "metadata": {},
   "outputs": [],
   "source": [
    "len(os.listdir(ol3_path))"
   ]
  },
  {
   "cell_type": "code",
   "execution_count": null,
   "metadata": {},
   "outputs": [],
   "source": [
    "for p, sample_file in zip(os.listdir(ol3_path), os.listdir(pkl_path)):\n",
    "    ol3_f = os.path.join(ol3_path, p)\n",
    "    vgg_f = os.path.join(pkl_path, sample_file)\n",
    "    vgg_f = gzip.GzipFile(vgg_f, \"r\")\n",
    "    vgg = np.load(vgg_f, allow_pickle=True)\n",
    "    _, emb, label = joblib.load(ol3_f)\n",
    "    label_trues = np.where(label == 1)[0]\n",
    "    print(p, sample_file)\n",
    "    print([label_names[i] for i in label_trues])\n",
    "    emb = emb.reshape((256, 192))\n",
    "    plt.imshow(vgg, cmap='hot', interpolation='nearest')\n",
    "    plt.show()\n",
    "    plt.close()\n",
    "    plt.imshow(emb, cmap='hot', interpolation='nearest')\n",
    "    plt.show()"
   ]
  },
  {
   "cell_type": "code",
   "execution_count": null,
   "metadata": {},
   "outputs": [],
   "source": [
    "img_array = img_array.reshape((16, 16))\n",
    "#             plt.imshow(img_array, cmap='hot', interpolation='nearest')\n",
    "#             plt.show()"
   ]
  }
 ],
 "metadata": {
  "kernelspec": {
   "display_name": "Python 3",
   "language": "python",
   "name": "python3"
  },
  "language_info": {
   "codemirror_mode": {
    "name": "ipython",
    "version": 3
   },
   "file_extension": ".py",
   "mimetype": "text/x-python",
   "name": "python",
   "nbconvert_exporter": "python",
   "pygments_lexer": "ipython3",
   "version": "3.7.3"
  }
 },
 "nbformat": 4,
 "nbformat_minor": 2
}
