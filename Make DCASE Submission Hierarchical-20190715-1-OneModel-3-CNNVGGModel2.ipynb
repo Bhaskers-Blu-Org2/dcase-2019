{
 "cells": [
  {
   "cell_type": "code",
   "execution_count": 29,
   "metadata": {},
   "outputs": [],
   "source": [
    "from collections import defaultdict\n",
    "import csv\n",
    "from datetime import datetime\n",
    "import os\n",
    "import re\n",
    "\n",
    "from matplotlib import pyplot as plt\n",
    "import numpy as np\n",
    "import pandas as pd\n",
    "from pytz import timezone\n",
    "from sklearn.externals import joblib\n",
    "import torch\n",
    "from torch import nn\n",
    "from tqdm import tqdm_notebook\n",
    "\n",
    "from load_dataset import AudioDataset\n",
    "from train_coarse import VGG_alt, device  #  TEST_LOADER\n",
    "# from train_branches import VGG_alt as VGG_alt_fine, get_label_range\n",
    "\n",
    "##  edit the optimizer  'rmsprop' or 'adam' for different model test \n",
    "from train_branches_20190711_1_one_part_one_model import VGG_alt as VGG_alt_fine, get_label_range\n",
    "\n",
    "# from train_branches_20190711_2_one_part_one_model_no_dropout import VGG_alt as VGG_alt_fine, get_label_range"
   ]
  },
  {
   "cell_type": "markdown",
   "metadata": {},
   "source": [
    "# Config"
   ]
  },
  {
   "cell_type": "code",
   "execution_count": 30,
   "metadata": {},
   "outputs": [
    {
     "name": "stdout",
     "output_type": "stream",
     "text": [
      "DATE: 20190713_112132\n"
     ]
    }
   ],
   "source": [
    "DATE = datetime.now(timezone('US/Pacific')).strftime('%Y%m%d_%H%M%S')\n",
    "print(f'DATE: {DATE}')"
   ]
  },
  {
   "cell_type": "code",
   "execution_count": 31,
   "metadata": {},
   "outputs": [],
   "source": [
    "LINUX = True\n",
    "\n",
    "#FINE = False\n",
    "#COARSE = True\n",
    "\n",
    "COARSE_WITH_FINE_TOP_LEVEL_MODEL = True\n",
    "\n",
    "FINE_TO_COARSE_LOGIC = False\n",
    "\n",
    "VGG_EMBED = True\n",
    "L3_EMBED = False\n",
    "\n",
    "if not LINUX:\n",
    "    basepath = r\"D:\\repos\\Data-Processing\\audio\\test\"\n",
    "else:\n",
    "    basepath = '/dcase/spec_vgg/validate'                                  # Validate / compute metrics\n",
    "    #basepath = '/dcase/datasets-dcase-2019-5/audio-eval/features/spec_vgg'  # Final Eval set\n",
    "NUM_COARSE_LABELS = 8\n",
    "NUM_TOTAL_LABELS = 37\n",
    "NUM_FINE_LABELS = NUM_TOTAL_LABELS - NUM_COARSE_LABELS\n",
    "\n",
    "COARSE_PREDICT_THRESHOLD = 0.5  # what else?\n",
    "\n",
    "RESULT_CSV_COARSE_PATH = f'csvs/results-{DATE}-coarse.csv'\n",
    "RESULT_CSV_FINE_PATH_TEMPLATE = f'csvs/results-{DATE}-fine-%d.csv' \n",
    "RESULT_CSV_FINAL_PATH = f'csvs/results-{DATE}-final.csv'"
   ]
  },
  {
   "cell_type": "code",
   "execution_count": 34,
   "metadata": {},
   "outputs": [],
   "source": [
    "if not LINUX:\n",
    "    COARSE_CHECKPOINT = \"models/20190605_085047_best_epoch_1_val_loss=0.2655.ckpt\"\n",
    "    FINE_CHECKPOINT_BASE = 'models'\n",
    "else:\n",
    "    #COARSE_CHECKPOINT = '/dcase/trained-models-branches/20190607_085504_0.773.ckpt'\n",
    "    #COARSE_CHECKPOINT =  '/dcase/trained-models-branches/20190610_083507_coarse=0.777_fine=0.644.ckpt'\n",
    "    #COARSE_CHECKPOINT = '/dcase/models/20190610_083507_coarse=0.777_fine=0.644.ckpt'\n",
    "    \n",
    "    #Best Coarse from Daniel:\n",
    "    #COARSE_CHECKPOINT = '/dcase/models/20190610_170308_coarse=0.787_fine=0.646.ckpt'\n",
    "    \n",
    "    # Best Fine form Daniel:\n",
    "    COARSE_CHECKPOINT = '/dcase/models/20190609_230306_coarse=0.769_fine=0.656.ckpt'\n",
    "    \n",
    "    FINE_CHECKPOINT_BASE = '/dcase/output/models_Jianyu/one-part-1-models-logmel-best7-rmsprop-learningratechangeMuchbiggerinCallback'\n",
    "\n",
    "#     FINE_CHECKPOINT_BASE = '/dcase/output/models_Jianyu/one-part-1-models-logmel-best6-originalmodel_rmsprop-learningratechangebiggerinCallback'\n",
    "#     FINE_CHECKPOINT_BASE = '/dcase/output/models_Jianyu/one-part-1-models-logmel-best5-rmsprop-learningratechangebiggerinCallback'\n",
    "\n",
    "#     FINE_CHECKPOINT_BASE = '/dcase/output/models_Jianyu/one-part-1-models-logmel-best4-rmsprop-learningratechangebiggerinCallback'\n",
    "#     FINE_CHECKPOINT_BASE = '/dcase/output/models_Jianyu/one-part-1-models-logmel-best3-rmsprop-dropoutlow'\n",
    "#     FINE_CHECKPOINT_BASE = '/dcase/output/models_Jianyu/one-part-1-models-logmel-best2-rmsp'      ## best result so far\n",
    "#     FINE_CHECKPOINT_BASE = '/dcase/output/models_Jianyu/one-part-1-models-logmel-best'\n",
    "#     FINE_CHECKPOINT_BASE = '/dcase/trained-models-branches'\n",
    "#     FINE_CHECKPOINT_BASE = '/dcase/output/models/best'\n",
    "\n",
    "FINE_CKPT_REGEX = r'.+_coarse=(\\d+)_best_.*\\.ckpt'"
   ]
  },
  {
   "cell_type": "markdown",
   "metadata": {},
   "source": [
    "## Find checkpoints for fine categories"
   ]
  },
  {
   "cell_type": "markdown",
   "metadata": {},
   "source": [
    "Assumes there is at most 1 ckpt file for each coarse category"
   ]
  },
  {
   "cell_type": "code",
   "execution_count": 35,
   "metadata": {},
   "outputs": [
    {
     "data": {
      "text/plain": [
       "defaultdict(str,\n",
       "            {4: '/dcase/output/models_Jianyu/one-part-1-models-logmel-best7-rmsprop-learningratechangeMuchbiggerinCallback/20190713_174736_coarse=4_best_epoch_10_val_loss=0.2225.ckpt',\n",
       "             0: '/dcase/output/models_Jianyu/one-part-1-models-logmel-best7-rmsprop-learningratechangeMuchbiggerinCallback/20190713_174736_coarse=0_best_epoch_13_val_loss=0.2762.ckpt',\n",
       "             6: '/dcase/output/models_Jianyu/one-part-1-models-logmel-best7-rmsprop-learningratechangeMuchbiggerinCallback/20190713_174736_coarse=6_best_epoch_10_val_loss=0.1360.ckpt',\n",
       "             1: '/dcase/output/models_Jianyu/one-part-1-models-logmel-best7-rmsprop-learningratechangeMuchbiggerinCallback/20190713_174736_coarse=1_best_epoch_11_val_loss=0.0763.ckpt',\n",
       "             3: '/dcase/output/models_Jianyu/one-part-1-models-logmel-best7-rmsprop-learningratechangeMuchbiggerinCallback/20190713_174736_coarse=3_best_epoch_11_val_loss=0.2085.ckpt',\n",
       "             5: '/dcase/output/models_Jianyu/one-part-1-models-logmel-best7-rmsprop-learningratechangeMuchbiggerinCallback/20190713_174736_coarse=5_best_epoch_1_val_loss=0.2867.ckpt'})"
      ]
     },
     "execution_count": 35,
     "metadata": {},
     "output_type": "execute_result"
    }
   ],
   "source": [
    "ckpt_paths_fine = defaultdict(str)\n",
    "for f in os.listdir(FINE_CHECKPOINT_BASE):\n",
    "    m = re.match(FINE_CKPT_REGEX, f)\n",
    "    if m:\n",
    "        coarse_idx = int(m.group(1))\n",
    "        ckpt_paths_fine[coarse_idx] = os.path.join(FINE_CHECKPOINT_BASE, f)\n",
    "ckpt_paths_fine"
   ]
  },
  {
   "cell_type": "markdown",
   "metadata": {},
   "source": [
    "## Set up label names"
   ]
  },
  {
   "cell_type": "code",
   "execution_count": 36,
   "metadata": {},
   "outputs": [],
   "source": [
    "# re-orders output as [fine, coarse] to match demo .csv file (maybe not necessary)\n",
    "def reorder_labels_for_submission(list_or_array):\n",
    "    if type(list_or_array) == torch.Tensor:\n",
    "        list_or_array = list(list_or_array.to('cpu').numpy())\n",
    "    list_or_array = list(list_or_array)\n",
    "    return list_or_array[8:] + list_or_array[0:8]"
   ]
  },
  {
   "cell_type": "code",
   "execution_count": 37,
   "metadata": {},
   "outputs": [],
   "source": [
    "# process label names\n",
    "label_names = joblib.load('label_order.pkl')\n",
    "label_names = [re.sub('_presence', '', label_names[i]) for i in range(len(label_names))]"
   ]
  },
  {
   "cell_type": "code",
   "execution_count": 38,
   "metadata": {},
   "outputs": [],
   "source": [
    "#label_names"
   ]
  },
  {
   "cell_type": "code",
   "execution_count": 39,
   "metadata": {
    "scrolled": true
   },
   "outputs": [],
   "source": [
    "def make_results_csv(csv_out_path_template, model_class, ckpt_path, use_fine_model=False, coarse_idx=None,\n",
    "                    label_start=None, label_end=None, num_fine_classes=None):\n",
    "    # Skip if path to checkpoint doesn't exit (happens for single-class fine models that don't exist)\n",
    "    if not ckpt_path:\n",
    "        return\n",
    "    \n",
    "    if use_fine_model:\n",
    "        csv_out_path = csv_out_path_template % coarse_idx\n",
    "        model = model_class(num_fine_classes)\n",
    "    else:\n",
    "        # Coarse (high-level) model.\n",
    "        csv_out_path = csv_out_path_template \n",
    "        model = model_class()\n",
    "\n",
    "    # Initialize model weights from checkpoint.\n",
    "    ckpt = torch.load(ckpt_path)\n",
    "    model.load_state_dict(ckpt)\n",
    "    model.eval()    \n",
    "        \n",
    "    print(f'Making results file: {csv_out_path}')\n",
    "    with open(csv_out_path, 'w') as c:\n",
    "        writer = csv.writer(c, delimiter=',')\n",
    "\n",
    "        header = ['audio_filename'] + reorder_labels_for_submission(label_names)\n",
    "        writer.writerow(header)\n",
    "        data_rows = []\n",
    "        for filename in tqdm_notebook(os.listdir(basepath)):\n",
    "            # Only eval on non-augmented validation set data. TODO: remove extraneous files from validation dataset\n",
    "            if '_pitch_changes-0_volume_changes-0_background_changes-None-None' not in filename:\n",
    "                continue\n",
    "            audio_filename = filename[0:9] + '.wav'\n",
    "            \n",
    "            ###### load data for validation \n",
    "            ###### \n",
    "            spectrogram, vgg, label = joblib.load(os.path.join(basepath, filename))\n",
    "    #         print(spectrogram.shape, emb.shape, label.shape)\n",
    "            spectrogram = np.expand_dims(spectrogram, axis=0)\n",
    "            spectrogram = np.expand_dims(spectrogram, axis=0)\n",
    "\n",
    "    #         print(vgg.flatten().shape)\n",
    "            vgg = torch.from_numpy(vgg.flatten().reshape((1, 1280)))\n",
    "            spectrogram = spectrogram.astype(np.float32)\n",
    "            spectrogram = torch.from_numpy(spectrogram)\n",
    "    #         print(spectrogram.shape, emb.shape, label.shape)\n",
    "            in_data = (spectrogram, vgg)\n",
    "\n",
    "            with torch.no_grad():\n",
    "                results = model(in_data)\n",
    "#                 print(\"results length1\")  # 37 \n",
    "#                 print(len(results[0]))    # 37 \n",
    "                results = torch.sigmoid(results[0])\n",
    "#                 print(\"results length2\")  # 37 \n",
    "#                 print(len(results))       # 37 \n",
    "                #print(label)\n",
    "                #print(results)\n",
    "                #print()\n",
    "                label_true = np.where(label == 1)[0]\n",
    "                label_name = [label_names[i] for i in label_true]\n",
    "    #             print(label_name)\n",
    "    #             img_array = img_array.reshape((16, 16))\n",
    "    #             plt.imshow(img_array, cmap='hot', interpolation='nearest')\n",
    "    #             plt.show()\n",
    "    #             print(results.shape)\n",
    "\n",
    "                results = results.detach().numpy()\n",
    "                if use_fine_model:\n",
    "                    print(\"use_fine_model\")\n",
    "                    if FINE_TO_COARSE_LOGIC:\n",
    "                        print(\"FINE_TO_COARSE_LOGIC is true\")\n",
    "                        coarse_labels = []\n",
    "                        fine_label_names = label_names[NUM_COARSE_LABELS:]\n",
    "                        coarse_label_dict = {i: [] for i in range(NUM_COARSE_LABELS)}\n",
    "                        for i, r in enumerate(results):\n",
    "        #                     print(fine_label_names[i][0])\n",
    "                            coarse_label_dict[int(fine_label_names[i][0])-1].append(r)\n",
    "                        for i in range(NUM_COARSE_LABELS):\n",
    "                            coarse_labels.append(max(coarse_label_dict[i]))\n",
    "        #                 print('coarse labels', coarse_labels)\n",
    "                        results = coarse_labels + list(results)\n",
    "                    else:\n",
    "                        print(\"FINE_TO_COARSE_LOGIC is false\")\n",
    "                        full_results = np.zeros(NUM_TOTAL_LABELS)\n",
    "                        full_results[label_start : label_end] = results\n",
    "                        results = full_results\n",
    "                        \n",
    "                elif COARSE_WITH_FINE_TOP_LEVEL_MODEL:\n",
    "                    results = list(results)\n",
    "                else:\n",
    "                    # Coarse model.\n",
    "                    results = list(results) + [0 for i in range(NUM_FINE_LABELS)]\n",
    "\n",
    "                results = reorder_labels_for_submission(results)\n",
    "                #print (results)\n",
    "                data_rows.append([audio_filename] + results)\n",
    "    #             print([audio_filename] + results)\n",
    "        writer.writerows(data_rows)\n",
    "    \n",
    "    # Clean up.\n",
    "    del ckpt\n",
    "    del model\n",
    "    torch.cuda.empty_cache()"
   ]
  },
  {
   "cell_type": "code",
   "execution_count": 40,
   "metadata": {},
   "outputs": [],
   "source": [
    "#label_names\n",
    "from sklearn.externals import joblib\n",
    "Test_data = joblib.load('/dcase/spec_vgg/label_to_files_test.zip')\n",
    "# test[1]\n",
    "\n",
    "# print(type(Test_data[0]))\n",
    "# print(len(Test_data[0]))"
   ]
  },
  {
   "cell_type": "code",
   "execution_count": 41,
   "metadata": {},
   "outputs": [],
   "source": [
    "annotations = ['1_engine', '2_machinery-impact', '3_non-machinery-impact', '4_powered-saw', '5_alert-signal', '6_music', '7_human-voice', '8_dog']\n"
   ]
  },
  {
   "cell_type": "code",
   "execution_count": null,
   "metadata": {},
   "outputs": [],
   "source": []
  },
  {
   "cell_type": "code",
   "execution_count": 42,
   "metadata": {},
   "outputs": [],
   "source": [
    "def make_fine_results_csv(csv_out_path_template, model_class, ckpt_path, use_fine_model=False, coarse_idx=None,\n",
    "                    label_start=None, label_end=None, num_fine_classes=None):\n",
    "    # Skip if path to checkpoint doesn't exit (happens for single-class fine models that don't exist)\n",
    "    if not ckpt_path:\n",
    "        return\n",
    "    \n",
    "    if use_fine_model:\n",
    "        csv_out_path = csv_out_path_template % coarse_idx\n",
    "        model = model_class(num_fine_classes)\n",
    "    else:\n",
    "        # Coarse (high-level) model.\n",
    "        csv_out_path = csv_out_path_template \n",
    "        model = model_class()\n",
    "\n",
    "    # Initialize model weights from checkpoint.\n",
    "    ckpt = torch.load(ckpt_path)\n",
    "    model.load_state_dict(ckpt)\n",
    "    model.eval()\n",
    "    target_annotation = annotations[coarse_idx]\n",
    "    print(coarse_idx, \"     \", target_annotation)\n",
    "        \n",
    "#     print(f'Making results file: {csv_out_path}')\n",
    "    with open(csv_out_path, 'w') as c:\n",
    "        writer = csv.writer(c, delimiter=',')\n",
    "\n",
    "        header = ['audio_filename'] + reorder_labels_for_submission(label_names)\n",
    "        writer.writerow(header)\n",
    "        data_rows = []\n",
    "        for filename in tqdm_notebook(os.listdir(basepath)):\n",
    "#         for index in range (0, len(Test_data[coarse_idx])):\n",
    "#             test_file = Test_data[coarse_idx][index]\n",
    "            # Only eval on non-augmented validation set data. TODO: remove extraneous files from validation dataset\n",
    "#             print(test_file)\n",
    "#             if '_pitch_changes-0_volume_changes-0_background_changes-None-None' not in test_file:\n",
    "            if '_pitch_changes-0_volume_changes-0_background_changes-None-None' not in filename:\n",
    "                continue\n",
    "            audio_filename = filename[0:9] + '.wav'\n",
    "#  \n",
    "#                        print(test_file)\n",
    "#             audio_filename = test_file[0:9] + '.wav'\n",
    "            ###### load data for validation \n",
    "            ###### \n",
    "            spectrogram, vgg, label = joblib.load(os.path.join(basepath, filename))\n",
    "            \n",
    "            \n",
    "            \n",
    "            ### maybe not need to add this because when evaluating a certain class, \n",
    "            ### the program only evaluates what is clip annotated with that class\n",
    "#             label_true = np.where(label == 1)[0]\n",
    "#             label_name = [label_names[i] for i in label_true]\n",
    "# #             print(label_name)\n",
    "#             right_file = False\n",
    "#             for index in range(0, len(label_name)):\n",
    "#                 if(target_annotation == label_name[index]):\n",
    "#                     right_file = True\n",
    "                \n",
    "#             if(right_file == False):\n",
    "# #                 print(label_name, \" don't include for test\")\n",
    "#                 continue\n",
    "    \n",
    "    \n",
    "    \n",
    "    \n",
    "                \n",
    "#             spectrogram, vgg, label = joblib.load(os.path.join(basepath, test_file))\n",
    "    #         print(spectrogram.shape, emb.shape, label.shape)\n",
    "            spectrogram = np.expand_dims(spectrogram, axis=0)\n",
    "            spectrogram = np.expand_dims(spectrogram, axis=0)\n",
    "\n",
    "    #         print(vgg.flatten().shape)\n",
    "            vgg = torch.from_numpy(vgg.flatten().reshape((1, 1280)))\n",
    "            spectrogram = spectrogram.astype(np.float32)\n",
    "            spectrogram = torch.from_numpy(spectrogram)\n",
    "    #         print(spectrogram.shape, emb.shape, label.shape)\n",
    "            in_data = (spectrogram, vgg)\n",
    "\n",
    "            with torch.no_grad():\n",
    "                results = model(in_data)\n",
    "                results = torch.sigmoid(results[0])\n",
    "                label_true = np.where(label == 1)[0]\n",
    "                label_name = [label_names[i] for i in label_true]\n",
    "#                 print(label_name)\n",
    "\n",
    "                results = results.detach().numpy()\n",
    "                if use_fine_model:\n",
    "#                     print(\"use_fine_model\")\n",
    "                    if FINE_TO_COARSE_LOGIC:\n",
    "#                         print(\"FINE_TO_COARSE_LOGIC is true\")\n",
    "                        coarse_labels = []\n",
    "                        fine_label_names = label_names[NUM_COARSE_LABELS:]\n",
    "                        coarse_label_dict = {i: [] for i in range(NUM_COARSE_LABELS)}\n",
    "                        for i, r in enumerate(results):\n",
    "        #                     print(fine_label_names[i][0])\n",
    "                            coarse_label_dict[int(fine_label_names[i][0])-1].append(r)\n",
    "                        for i in range(NUM_COARSE_LABELS):\n",
    "                            coarse_labels.append(max(coarse_label_dict[i]))\n",
    "        #                 print('coarse labels', coarse_labels)\n",
    "                        results = coarse_labels + list(results)\n",
    "                    else:\n",
    "#                         print(\"FINE_TO_COARSE_LOGIC is false\")\n",
    "                        full_results = np.zeros(NUM_TOTAL_LABELS)\n",
    "                        full_results[label_start : label_end] = results\n",
    "                        results = full_results\n",
    "                        \n",
    "                elif COARSE_WITH_FINE_TOP_LEVEL_MODEL:\n",
    "                    results = list(results)\n",
    "                else:\n",
    "                    # Coarse model.\n",
    "                    results = list(results) + [0 for i in range(NUM_FINE_LABELS)]\n",
    "\n",
    "                results = reorder_labels_for_submission(results)\n",
    "                #print (results)\n",
    "                data_rows.append([audio_filename] + results)\n",
    "    #             print([audio_filename] + results)\n",
    "        writer.writerows(data_rows)\n",
    "    \n",
    "    # Clean up.\n",
    "    del ckpt\n",
    "    del model\n",
    "    torch.cuda.empty_cache()"
   ]
  },
  {
   "cell_type": "markdown",
   "metadata": {},
   "source": [
    "# Make Predictions"
   ]
  },
  {
   "cell_type": "markdown",
   "metadata": {},
   "source": [
    "##### N.B: checkpoint must have been trained with same model architecture"
   ]
  },
  {
   "cell_type": "markdown",
   "metadata": {},
   "source": [
    "## Make Coarse predictions"
   ]
  },
  {
   "cell_type": "code",
   "execution_count": 43,
   "metadata": {},
   "outputs": [
    {
     "name": "stdout",
     "output_type": "stream",
     "text": [
      "Making results file: csvs/results-20190713_112132-coarse.csv\n"
     ]
    },
    {
     "data": {
      "application/vnd.jupyter.widget-view+json": {
       "model_id": "d4e97752241a4d50b94c6270c003cf5f",
       "version_major": 2,
       "version_minor": 0
      },
      "text/plain": [
       "HBox(children=(IntProgress(value=0, max=4125), HTML(value='')))"
      ]
     },
     "metadata": {},
     "output_type": "display_data"
    },
    {
     "name": "stdout",
     "output_type": "stream",
     "text": [
      "\n"
     ]
    }
   ],
   "source": [
    " make_results_csv(RESULT_CSV_COARSE_PATH, VGG_alt, COARSE_CHECKPOINT)"
   ]
  },
  {
   "cell_type": "markdown",
   "metadata": {},
   "source": [
    "## Make Fine predictions"
   ]
  },
  {
   "cell_type": "code",
   "execution_count": 44,
   "metadata": {},
   "outputs": [
    {
     "name": "stdout",
     "output_type": "stream",
     "text": [
      "0       1_engine\n"
     ]
    },
    {
     "data": {
      "application/vnd.jupyter.widget-view+json": {
       "model_id": "35f8a73715e041b7b725ecc7e4d779bc",
       "version_major": 2,
       "version_minor": 0
      },
      "text/plain": [
       "HBox(children=(IntProgress(value=0, max=4125), HTML(value='')))"
      ]
     },
     "metadata": {},
     "output_type": "display_data"
    },
    {
     "name": "stdout",
     "output_type": "stream",
     "text": [
      "\n",
      "1       2_machinery-impact\n"
     ]
    },
    {
     "data": {
      "application/vnd.jupyter.widget-view+json": {
       "model_id": "0e99192fccbd409798a95208243700b3",
       "version_major": 2,
       "version_minor": 0
      },
      "text/plain": [
       "HBox(children=(IntProgress(value=0, max=4125), HTML(value='')))"
      ]
     },
     "metadata": {},
     "output_type": "display_data"
    },
    {
     "name": "stdout",
     "output_type": "stream",
     "text": [
      "\n",
      "3       4_powered-saw\n"
     ]
    },
    {
     "data": {
      "application/vnd.jupyter.widget-view+json": {
       "model_id": "6fab331344934fb9a91884b62e9268e0",
       "version_major": 2,
       "version_minor": 0
      },
      "text/plain": [
       "HBox(children=(IntProgress(value=0, max=4125), HTML(value='')))"
      ]
     },
     "metadata": {},
     "output_type": "display_data"
    },
    {
     "name": "stdout",
     "output_type": "stream",
     "text": [
      "\n",
      "4       5_alert-signal\n"
     ]
    },
    {
     "data": {
      "application/vnd.jupyter.widget-view+json": {
       "model_id": "4ba3f17346c941f5b6629e7900a7be20",
       "version_major": 2,
       "version_minor": 0
      },
      "text/plain": [
       "HBox(children=(IntProgress(value=0, max=4125), HTML(value='')))"
      ]
     },
     "metadata": {},
     "output_type": "display_data"
    },
    {
     "name": "stdout",
     "output_type": "stream",
     "text": [
      "\n",
      "5       6_music\n"
     ]
    },
    {
     "data": {
      "application/vnd.jupyter.widget-view+json": {
       "model_id": "52e00588f1df405db061276c2171001a",
       "version_major": 2,
       "version_minor": 0
      },
      "text/plain": [
       "HBox(children=(IntProgress(value=0, max=4125), HTML(value='')))"
      ]
     },
     "metadata": {},
     "output_type": "display_data"
    },
    {
     "name": "stdout",
     "output_type": "stream",
     "text": [
      "\n",
      "6       7_human-voice\n"
     ]
    },
    {
     "data": {
      "application/vnd.jupyter.widget-view+json": {
       "model_id": "1f2223a95f60478aa81286dc9fa45baa",
       "version_major": 2,
       "version_minor": 0
      },
      "text/plain": [
       "HBox(children=(IntProgress(value=0, max=4125), HTML(value='')))"
      ]
     },
     "metadata": {},
     "output_type": "display_data"
    },
    {
     "name": "stdout",
     "output_type": "stream",
     "text": [
      "\n"
     ]
    }
   ],
   "source": [
    "for coarse_idx in range(NUM_COARSE_LABELS):\n",
    "#     print(coarse_idx)\n",
    "    label_start, label_end, num_fine_classes = get_label_range(coarse_idx)\n",
    "    make_fine_results_csv(RESULT_CSV_FINE_PATH_TEMPLATE, VGG_alt_fine, ckpt_paths_fine[coarse_idx], \n",
    "                     use_fine_model=True, coarse_idx=coarse_idx, \n",
    "                     label_start=label_start, label_end=label_end, num_fine_classes=num_fine_classes)"
   ]
  },
  {
   "cell_type": "markdown",
   "metadata": {},
   "source": [
    "## Combine separate prediction CSVs into final output CSV"
   ]
  },
  {
   "cell_type": "markdown",
   "metadata": {},
   "source": [
    "1. Load coarse-model results CSV.\n",
    "2. For each coarse class with a high score, copy in the fine-level results."
   ]
  },
  {
   "cell_type": "code",
   "execution_count": 45,
   "metadata": {},
   "outputs": [
    {
     "name": "stdout",
     "output_type": "stream",
     "text": [
      "csvs/results-20190713_112132-coarse.csv\n"
     ]
    },
    {
     "data": {
      "text/html": [
       "<div>\n",
       "<style scoped>\n",
       "    .dataframe tbody tr th:only-of-type {\n",
       "        vertical-align: middle;\n",
       "    }\n",
       "\n",
       "    .dataframe tbody tr th {\n",
       "        vertical-align: top;\n",
       "    }\n",
       "\n",
       "    .dataframe thead th {\n",
       "        text-align: right;\n",
       "    }\n",
       "</style>\n",
       "<table border=\"1\" class=\"dataframe\">\n",
       "  <thead>\n",
       "    <tr style=\"text-align: right;\">\n",
       "      <th></th>\n",
       "      <th>audio_filename</th>\n",
       "      <th>1-1_small-sounding-engine</th>\n",
       "      <th>1-2_medium-sounding-engine</th>\n",
       "      <th>1-3_large-sounding-engine</th>\n",
       "      <th>1-X_engine-of-uncertain-size</th>\n",
       "      <th>2-1_rock-drill</th>\n",
       "      <th>2-2_jackhammer</th>\n",
       "      <th>2-3_hoe-ram</th>\n",
       "      <th>2-4_pile-driver</th>\n",
       "      <th>2-X_other-unknown-impact-machinery</th>\n",
       "      <th>...</th>\n",
       "      <th>7-X_other-unknown-human-voice</th>\n",
       "      <th>8-1_dog-barking-whining</th>\n",
       "      <th>1_engine</th>\n",
       "      <th>2_machinery-impact</th>\n",
       "      <th>3_non-machinery-impact</th>\n",
       "      <th>4_powered-saw</th>\n",
       "      <th>5_alert-signal</th>\n",
       "      <th>6_music</th>\n",
       "      <th>7_human-voice</th>\n",
       "      <th>8_dog</th>\n",
       "    </tr>\n",
       "  </thead>\n",
       "  <tbody>\n",
       "    <tr>\n",
       "      <th>0</th>\n",
       "      <td>00_001177.wav</td>\n",
       "      <td>0.003182</td>\n",
       "      <td>0.055715</td>\n",
       "      <td>0.343944</td>\n",
       "      <td>0.006606</td>\n",
       "      <td>2.088875e-04</td>\n",
       "      <td>7.313141e-04</td>\n",
       "      <td>9.954495e-05</td>\n",
       "      <td>7.954438e-06</td>\n",
       "      <td>0.003333</td>\n",
       "      <td>...</td>\n",
       "      <td>0.000020</td>\n",
       "      <td>0.000112</td>\n",
       "      <td>0.576407</td>\n",
       "      <td>0.044812</td>\n",
       "      <td>0.008230</td>\n",
       "      <td>0.001054</td>\n",
       "      <td>0.005202</td>\n",
       "      <td>0.000020</td>\n",
       "      <td>0.015133</td>\n",
       "      <td>0.000114</td>\n",
       "    </tr>\n",
       "    <tr>\n",
       "      <th>1</th>\n",
       "      <td>04_000468.wav</td>\n",
       "      <td>0.000006</td>\n",
       "      <td>0.000548</td>\n",
       "      <td>0.000127</td>\n",
       "      <td>0.000055</td>\n",
       "      <td>1.237619e-07</td>\n",
       "      <td>8.403098e-07</td>\n",
       "      <td>2.178314e-07</td>\n",
       "      <td>3.705563e-06</td>\n",
       "      <td>0.000053</td>\n",
       "      <td>...</td>\n",
       "      <td>0.003009</td>\n",
       "      <td>0.001009</td>\n",
       "      <td>0.002682</td>\n",
       "      <td>0.002562</td>\n",
       "      <td>0.000227</td>\n",
       "      <td>0.000012</td>\n",
       "      <td>0.009579</td>\n",
       "      <td>0.006070</td>\n",
       "      <td>0.909381</td>\n",
       "      <td>0.001002</td>\n",
       "    </tr>\n",
       "    <tr>\n",
       "      <th>2</th>\n",
       "      <td>04_000182.wav</td>\n",
       "      <td>0.001075</td>\n",
       "      <td>0.011721</td>\n",
       "      <td>0.019819</td>\n",
       "      <td>0.001747</td>\n",
       "      <td>3.884907e-05</td>\n",
       "      <td>1.390877e-04</td>\n",
       "      <td>8.654617e-04</td>\n",
       "      <td>2.741874e-03</td>\n",
       "      <td>0.007309</td>\n",
       "      <td>...</td>\n",
       "      <td>0.011229</td>\n",
       "      <td>0.001572</td>\n",
       "      <td>0.081388</td>\n",
       "      <td>0.149512</td>\n",
       "      <td>0.063902</td>\n",
       "      <td>0.000390</td>\n",
       "      <td>0.025009</td>\n",
       "      <td>0.021499</td>\n",
       "      <td>0.738031</td>\n",
       "      <td>0.001569</td>\n",
       "    </tr>\n",
       "    <tr>\n",
       "      <th>3</th>\n",
       "      <td>03_001573.wav</td>\n",
       "      <td>0.000122</td>\n",
       "      <td>0.001640</td>\n",
       "      <td>0.000623</td>\n",
       "      <td>0.005783</td>\n",
       "      <td>1.629591e-04</td>\n",
       "      <td>8.093012e-04</td>\n",
       "      <td>5.721565e-06</td>\n",
       "      <td>2.983857e-04</td>\n",
       "      <td>0.000062</td>\n",
       "      <td>...</td>\n",
       "      <td>0.001544</td>\n",
       "      <td>0.086537</td>\n",
       "      <td>0.006376</td>\n",
       "      <td>0.007409</td>\n",
       "      <td>0.001108</td>\n",
       "      <td>0.002556</td>\n",
       "      <td>0.650215</td>\n",
       "      <td>0.115984</td>\n",
       "      <td>0.159117</td>\n",
       "      <td>0.091038</td>\n",
       "    </tr>\n",
       "    <tr>\n",
       "      <th>4</th>\n",
       "      <td>04_000588.wav</td>\n",
       "      <td>0.001325</td>\n",
       "      <td>0.106243</td>\n",
       "      <td>0.245586</td>\n",
       "      <td>0.006404</td>\n",
       "      <td>1.928769e-04</td>\n",
       "      <td>2.912376e-03</td>\n",
       "      <td>1.654024e-05</td>\n",
       "      <td>4.136291e-08</td>\n",
       "      <td>0.000303</td>\n",
       "      <td>...</td>\n",
       "      <td>0.000009</td>\n",
       "      <td>0.000727</td>\n",
       "      <td>0.639740</td>\n",
       "      <td>0.021023</td>\n",
       "      <td>0.000196</td>\n",
       "      <td>0.000145</td>\n",
       "      <td>0.006480</td>\n",
       "      <td>0.000002</td>\n",
       "      <td>0.005945</td>\n",
       "      <td>0.000715</td>\n",
       "    </tr>\n",
       "  </tbody>\n",
       "</table>\n",
       "<p>5 rows × 38 columns</p>\n",
       "</div>"
      ],
      "text/plain": [
       "  audio_filename  1-1_small-sounding-engine  1-2_medium-sounding-engine  \\\n",
       "0  00_001177.wav                   0.003182                    0.055715   \n",
       "1  04_000468.wav                   0.000006                    0.000548   \n",
       "2  04_000182.wav                   0.001075                    0.011721   \n",
       "3  03_001573.wav                   0.000122                    0.001640   \n",
       "4  04_000588.wav                   0.001325                    0.106243   \n",
       "\n",
       "   1-3_large-sounding-engine  1-X_engine-of-uncertain-size  2-1_rock-drill  \\\n",
       "0                   0.343944                      0.006606    2.088875e-04   \n",
       "1                   0.000127                      0.000055    1.237619e-07   \n",
       "2                   0.019819                      0.001747    3.884907e-05   \n",
       "3                   0.000623                      0.005783    1.629591e-04   \n",
       "4                   0.245586                      0.006404    1.928769e-04   \n",
       "\n",
       "   2-2_jackhammer   2-3_hoe-ram  2-4_pile-driver  \\\n",
       "0    7.313141e-04  9.954495e-05     7.954438e-06   \n",
       "1    8.403098e-07  2.178314e-07     3.705563e-06   \n",
       "2    1.390877e-04  8.654617e-04     2.741874e-03   \n",
       "3    8.093012e-04  5.721565e-06     2.983857e-04   \n",
       "4    2.912376e-03  1.654024e-05     4.136291e-08   \n",
       "\n",
       "   2-X_other-unknown-impact-machinery  ...  7-X_other-unknown-human-voice  \\\n",
       "0                            0.003333  ...                       0.000020   \n",
       "1                            0.000053  ...                       0.003009   \n",
       "2                            0.007309  ...                       0.011229   \n",
       "3                            0.000062  ...                       0.001544   \n",
       "4                            0.000303  ...                       0.000009   \n",
       "\n",
       "   8-1_dog-barking-whining  1_engine  2_machinery-impact  \\\n",
       "0                 0.000112  0.576407            0.044812   \n",
       "1                 0.001009  0.002682            0.002562   \n",
       "2                 0.001572  0.081388            0.149512   \n",
       "3                 0.086537  0.006376            0.007409   \n",
       "4                 0.000727  0.639740            0.021023   \n",
       "\n",
       "   3_non-machinery-impact  4_powered-saw  5_alert-signal   6_music  \\\n",
       "0                0.008230       0.001054        0.005202  0.000020   \n",
       "1                0.000227       0.000012        0.009579  0.006070   \n",
       "2                0.063902       0.000390        0.025009  0.021499   \n",
       "3                0.001108       0.002556        0.650215  0.115984   \n",
       "4                0.000196       0.000145        0.006480  0.000002   \n",
       "\n",
       "   7_human-voice     8_dog  \n",
       "0       0.015133  0.000114  \n",
       "1       0.909381  0.001002  \n",
       "2       0.738031  0.001569  \n",
       "3       0.159117  0.091038  \n",
       "4       0.005945  0.000715  \n",
       "\n",
       "[5 rows x 38 columns]"
      ]
     },
     "execution_count": 45,
     "metadata": {},
     "output_type": "execute_result"
    }
   ],
   "source": [
    "df = pd.read_csv(RESULT_CSV_COARSE_PATH)\n",
    "print(RESULT_CSV_COARSE_PATH)\n",
    "df.head()\n"
   ]
  },
  {
   "cell_type": "code",
   "execution_count": 46,
   "metadata": {},
   "outputs": [
    {
     "name": "stdout",
     "output_type": "stream",
     "text": [
      "1    5\n",
      "5    10\n",
      "10    11\n",
      "11    15\n",
      "15    20\n",
      "20    24\n",
      "24    29\n",
      "29    30\n"
     ]
    }
   ],
   "source": [
    "dfs_fine = defaultdict(lambda: None)\n",
    "label_ranges = {}\n",
    "for coarse_idx in range(NUM_COARSE_LABELS):\n",
    "    csv_path = RESULT_CSV_FINE_PATH_TEMPLATE % coarse_idx\n",
    "    label_start, label_end, _ = get_label_range(coarse_idx)\n",
    "     # convert from starting fine labels at col 8 to starting at col 1\n",
    "    label_start -= NUM_COARSE_LABELS - 1  # -1 is to account for audio_filename in col 0\n",
    "    label_end -= NUM_COARSE_LABELS - 1\n",
    "    label_ranges[coarse_idx] = (label_start, label_end)\n",
    "    print(label_start, \"  \", label_end)\n",
    "    if os.path.exists(csv_path):\n",
    "        dfs_fine[coarse_idx] = pd.read_csv(csv_path)"
   ]
  },
  {
   "cell_type": "code",
   "execution_count": 47,
   "metadata": {},
   "outputs": [
    {
     "data": {
      "text/plain": [
       "{0: (1, 5),\n",
       " 1: (5, 10),\n",
       " 2: (10, 11),\n",
       " 3: (11, 15),\n",
       " 4: (15, 20),\n",
       " 5: (20, 24),\n",
       " 6: (24, 29),\n",
       " 7: (29, 30)}"
      ]
     },
     "execution_count": 47,
     "metadata": {},
     "output_type": "execute_result"
    }
   ],
   "source": [
    "label_ranges"
   ]
  },
  {
   "cell_type": "code",
   "execution_count": 48,
   "metadata": {},
   "outputs": [],
   "source": [
    "#dfs_fine[1].head()"
   ]
  },
  {
   "cell_type": "code",
   "execution_count": 49,
   "metadata": {},
   "outputs": [
    {
     "data": {
      "text/plain": [
       "(443, 38)"
      ]
     },
     "execution_count": 49,
     "metadata": {},
     "output_type": "execute_result"
    }
   ],
   "source": [
    "df.values.shape"
   ]
  },
  {
   "cell_type": "code",
   "execution_count": 50,
   "metadata": {},
   "outputs": [
    {
     "data": {
      "application/vnd.jupyter.widget-view+json": {
       "model_id": "b820ba5974994fcd9679a2253826494e",
       "version_major": 2,
       "version_minor": 0
      },
      "text/plain": [
       "HBox(children=(IntProgress(value=0, max=443), HTML(value='')))"
      ]
     },
     "metadata": {},
     "output_type": "display_data"
    },
    {
     "name": "stdout",
     "output_type": "stream",
     "text": [
      "\n"
     ]
    }
   ],
   "source": [
    "for i in tqdm_notebook(range(len(df))):\n",
    "#     print(\"length \", len(df))\n",
    "#     print(\"df_fine \" , df_fine.values.shape)\n",
    "    # Find the coarse-predicitons that are over-threshold OR are max over all coarse categories.\n",
    "    # Find argmax.\n",
    "    coarse_preds = df.values[i][1 + NUM_FINE_LABELS:]\n",
    "#     print(coarse_preds)\n",
    "    best_coarse_idx = np.argmax(coarse_preds)\n",
    "    for coarse_idx in range(NUM_COARSE_LABELS):\n",
    "        start_idx, end_idx = label_ranges[coarse_idx]\n",
    "        coarse_prob = df.values[i][1 + NUM_FINE_LABELS + coarse_idx]\n",
    "#         print(coarse_preds)\n",
    "        if coarse_prob > COARSE_PREDICT_THRESHOLD or coarse_idx == best_coarse_idx:  # + 1 is because of filename in col 0\n",
    "            df_fine = dfs_fine[coarse_idx]\n",
    "#             print(df_fine)\n",
    "            if df_fine is None:\n",
    "                assert end_idx - start_idx == 1\n",
    "                df.iloc[i, start_idx] = coarse_prob\n",
    "            else:\n",
    "                # Copy fine-predictions over into the results data.\n",
    "#                 print(start_idx, \"   \",  end_idx)\n",
    "#                 print(i)\n",
    "#                 print(\"coarse_idx \", coarse_idx)\n",
    "#                 print(start_idx, \"   \", end_idx)\n",
    "#                 print(\"df_fine \" , df_fine.values.shape)\n",
    "#                 print(\"df_fine \" , df_fine.values.shape)\n",
    "#                 print(df_fine.values[i][0])\n",
    "#                 print(len(df_fine.values[i]))  \n",
    "#                 print(df_fine.values[i][start_idx:end_idx])\n",
    "#                 print()\n",
    "                df.iloc[i, start_idx:end_idx] = df_fine.values[i][start_idx:end_idx]\n",
    "                "
   ]
  },
  {
   "cell_type": "code",
   "execution_count": 51,
   "metadata": {
    "scrolled": true
   },
   "outputs": [
    {
     "data": {
      "text/html": [
       "<div>\n",
       "<style scoped>\n",
       "    .dataframe tbody tr th:only-of-type {\n",
       "        vertical-align: middle;\n",
       "    }\n",
       "\n",
       "    .dataframe tbody tr th {\n",
       "        vertical-align: top;\n",
       "    }\n",
       "\n",
       "    .dataframe thead th {\n",
       "        text-align: right;\n",
       "    }\n",
       "</style>\n",
       "<table border=\"1\" class=\"dataframe\">\n",
       "  <thead>\n",
       "    <tr style=\"text-align: right;\">\n",
       "      <th></th>\n",
       "      <th>audio_filename</th>\n",
       "      <th>1-1_small-sounding-engine</th>\n",
       "      <th>1-2_medium-sounding-engine</th>\n",
       "      <th>1-3_large-sounding-engine</th>\n",
       "      <th>1-X_engine-of-uncertain-size</th>\n",
       "      <th>2-1_rock-drill</th>\n",
       "      <th>2-2_jackhammer</th>\n",
       "      <th>2-3_hoe-ram</th>\n",
       "      <th>2-4_pile-driver</th>\n",
       "      <th>2-X_other-unknown-impact-machinery</th>\n",
       "      <th>...</th>\n",
       "      <th>7-X_other-unknown-human-voice</th>\n",
       "      <th>8-1_dog-barking-whining</th>\n",
       "      <th>1_engine</th>\n",
       "      <th>2_machinery-impact</th>\n",
       "      <th>3_non-machinery-impact</th>\n",
       "      <th>4_powered-saw</th>\n",
       "      <th>5_alert-signal</th>\n",
       "      <th>6_music</th>\n",
       "      <th>7_human-voice</th>\n",
       "      <th>8_dog</th>\n",
       "    </tr>\n",
       "  </thead>\n",
       "  <tbody>\n",
       "    <tr>\n",
       "      <th>0</th>\n",
       "      <td>00_001177.wav</td>\n",
       "      <td>0.004828</td>\n",
       "      <td>0.088702</td>\n",
       "      <td>0.445279</td>\n",
       "      <td>0.002526</td>\n",
       "      <td>2.088875e-04</td>\n",
       "      <td>7.313141e-04</td>\n",
       "      <td>9.954495e-05</td>\n",
       "      <td>7.954438e-06</td>\n",
       "      <td>0.003333</td>\n",
       "      <td>...</td>\n",
       "      <td>0.000020</td>\n",
       "      <td>0.000112</td>\n",
       "      <td>0.576407</td>\n",
       "      <td>0.044812</td>\n",
       "      <td>0.008230</td>\n",
       "      <td>0.001054</td>\n",
       "      <td>0.005202</td>\n",
       "      <td>0.000020</td>\n",
       "      <td>0.015133</td>\n",
       "      <td>0.000114</td>\n",
       "    </tr>\n",
       "    <tr>\n",
       "      <th>1</th>\n",
       "      <td>04_000468.wav</td>\n",
       "      <td>0.000006</td>\n",
       "      <td>0.000548</td>\n",
       "      <td>0.000127</td>\n",
       "      <td>0.000055</td>\n",
       "      <td>1.237619e-07</td>\n",
       "      <td>8.403098e-07</td>\n",
       "      <td>2.178314e-07</td>\n",
       "      <td>3.705563e-06</td>\n",
       "      <td>0.000053</td>\n",
       "      <td>...</td>\n",
       "      <td>0.006887</td>\n",
       "      <td>0.001009</td>\n",
       "      <td>0.002682</td>\n",
       "      <td>0.002562</td>\n",
       "      <td>0.000227</td>\n",
       "      <td>0.000012</td>\n",
       "      <td>0.009579</td>\n",
       "      <td>0.006070</td>\n",
       "      <td>0.909381</td>\n",
       "      <td>0.001002</td>\n",
       "    </tr>\n",
       "    <tr>\n",
       "      <th>2</th>\n",
       "      <td>04_000182.wav</td>\n",
       "      <td>0.001075</td>\n",
       "      <td>0.011721</td>\n",
       "      <td>0.019819</td>\n",
       "      <td>0.001747</td>\n",
       "      <td>3.884907e-05</td>\n",
       "      <td>1.390877e-04</td>\n",
       "      <td>8.654617e-04</td>\n",
       "      <td>2.741874e-03</td>\n",
       "      <td>0.007309</td>\n",
       "      <td>...</td>\n",
       "      <td>0.006370</td>\n",
       "      <td>0.001572</td>\n",
       "      <td>0.081388</td>\n",
       "      <td>0.149512</td>\n",
       "      <td>0.063902</td>\n",
       "      <td>0.000390</td>\n",
       "      <td>0.025009</td>\n",
       "      <td>0.021499</td>\n",
       "      <td>0.738031</td>\n",
       "      <td>0.001569</td>\n",
       "    </tr>\n",
       "    <tr>\n",
       "      <th>3</th>\n",
       "      <td>03_001573.wav</td>\n",
       "      <td>0.000122</td>\n",
       "      <td>0.001640</td>\n",
       "      <td>0.000623</td>\n",
       "      <td>0.005783</td>\n",
       "      <td>1.629591e-04</td>\n",
       "      <td>8.093012e-04</td>\n",
       "      <td>5.721565e-06</td>\n",
       "      <td>2.983857e-04</td>\n",
       "      <td>0.000062</td>\n",
       "      <td>...</td>\n",
       "      <td>0.001544</td>\n",
       "      <td>0.086537</td>\n",
       "      <td>0.006376</td>\n",
       "      <td>0.007409</td>\n",
       "      <td>0.001108</td>\n",
       "      <td>0.002556</td>\n",
       "      <td>0.650215</td>\n",
       "      <td>0.115984</td>\n",
       "      <td>0.159117</td>\n",
       "      <td>0.091038</td>\n",
       "    </tr>\n",
       "    <tr>\n",
       "      <th>4</th>\n",
       "      <td>04_000588.wav</td>\n",
       "      <td>0.001373</td>\n",
       "      <td>0.188623</td>\n",
       "      <td>0.346524</td>\n",
       "      <td>0.000952</td>\n",
       "      <td>1.928769e-04</td>\n",
       "      <td>2.912376e-03</td>\n",
       "      <td>1.654024e-05</td>\n",
       "      <td>4.136291e-08</td>\n",
       "      <td>0.000303</td>\n",
       "      <td>...</td>\n",
       "      <td>0.000009</td>\n",
       "      <td>0.000727</td>\n",
       "      <td>0.639740</td>\n",
       "      <td>0.021023</td>\n",
       "      <td>0.000196</td>\n",
       "      <td>0.000145</td>\n",
       "      <td>0.006480</td>\n",
       "      <td>0.000002</td>\n",
       "      <td>0.005945</td>\n",
       "      <td>0.000715</td>\n",
       "    </tr>\n",
       "  </tbody>\n",
       "</table>\n",
       "<p>5 rows × 38 columns</p>\n",
       "</div>"
      ],
      "text/plain": [
       "  audio_filename  1-1_small-sounding-engine  1-2_medium-sounding-engine  \\\n",
       "0  00_001177.wav                   0.004828                    0.088702   \n",
       "1  04_000468.wav                   0.000006                    0.000548   \n",
       "2  04_000182.wav                   0.001075                    0.011721   \n",
       "3  03_001573.wav                   0.000122                    0.001640   \n",
       "4  04_000588.wav                   0.001373                    0.188623   \n",
       "\n",
       "   1-3_large-sounding-engine  1-X_engine-of-uncertain-size  2-1_rock-drill  \\\n",
       "0                   0.445279                      0.002526    2.088875e-04   \n",
       "1                   0.000127                      0.000055    1.237619e-07   \n",
       "2                   0.019819                      0.001747    3.884907e-05   \n",
       "3                   0.000623                      0.005783    1.629591e-04   \n",
       "4                   0.346524                      0.000952    1.928769e-04   \n",
       "\n",
       "   2-2_jackhammer   2-3_hoe-ram  2-4_pile-driver  \\\n",
       "0    7.313141e-04  9.954495e-05     7.954438e-06   \n",
       "1    8.403098e-07  2.178314e-07     3.705563e-06   \n",
       "2    1.390877e-04  8.654617e-04     2.741874e-03   \n",
       "3    8.093012e-04  5.721565e-06     2.983857e-04   \n",
       "4    2.912376e-03  1.654024e-05     4.136291e-08   \n",
       "\n",
       "   2-X_other-unknown-impact-machinery  ...  7-X_other-unknown-human-voice  \\\n",
       "0                            0.003333  ...                       0.000020   \n",
       "1                            0.000053  ...                       0.006887   \n",
       "2                            0.007309  ...                       0.006370   \n",
       "3                            0.000062  ...                       0.001544   \n",
       "4                            0.000303  ...                       0.000009   \n",
       "\n",
       "   8-1_dog-barking-whining  1_engine  2_machinery-impact  \\\n",
       "0                 0.000112  0.576407            0.044812   \n",
       "1                 0.001009  0.002682            0.002562   \n",
       "2                 0.001572  0.081388            0.149512   \n",
       "3                 0.086537  0.006376            0.007409   \n",
       "4                 0.000727  0.639740            0.021023   \n",
       "\n",
       "   3_non-machinery-impact  4_powered-saw  5_alert-signal   6_music  \\\n",
       "0                0.008230       0.001054        0.005202  0.000020   \n",
       "1                0.000227       0.000012        0.009579  0.006070   \n",
       "2                0.063902       0.000390        0.025009  0.021499   \n",
       "3                0.001108       0.002556        0.650215  0.115984   \n",
       "4                0.000196       0.000145        0.006480  0.000002   \n",
       "\n",
       "   7_human-voice     8_dog  \n",
       "0       0.015133  0.000114  \n",
       "1       0.909381  0.001002  \n",
       "2       0.738031  0.001569  \n",
       "3       0.159117  0.091038  \n",
       "4       0.005945  0.000715  \n",
       "\n",
       "[5 rows x 38 columns]"
      ]
     },
     "execution_count": 51,
     "metadata": {},
     "output_type": "execute_result"
    }
   ],
   "source": [
    "df.head()"
   ]
  },
  {
   "cell_type": "code",
   "execution_count": 52,
   "metadata": {},
   "outputs": [],
   "source": [
    "df.to_csv(RESULT_CSV_FINAL_PATH)"
   ]
  },
  {
   "cell_type": "code",
   "execution_count": 53,
   "metadata": {},
   "outputs": [
    {
     "data": {
      "text/plain": [
       "'csvs/results-20190713_112132-final.csv'"
      ]
     },
     "execution_count": 53,
     "metadata": {},
     "output_type": "execute_result"
    }
   ],
   "source": [
    "RESULT_CSV_FINAL_PATH"
   ]
  },
  {
   "cell_type": "code",
   "execution_count": null,
   "metadata": {},
   "outputs": [],
   "source": []
  },
  {
   "cell_type": "code",
   "execution_count": null,
   "metadata": {},
   "outputs": [],
   "source": []
  },
  {
   "cell_type": "markdown",
   "metadata": {},
   "source": [
    "# Eval"
   ]
  },
  {
   "cell_type": "code",
   "execution_count": 54,
   "metadata": {},
   "outputs": [
    {
     "name": "stdout",
     "output_type": "stream",
     "text": [
      "sys:1: DtypeWarning: Columns (40,54,59) have mixed types. Specify dtype option on import or set low_memory=False.\n",
      "evaluate_predictions.py:36: FutureWarning: Series.nonzero() is deprecated and will be removed in a future version.Use Series.to_numpy().nonzero() instead\n",
      "  thresh_0pt5_idx = (eval_df['threshold'] >= 0.5).nonzero()[0][0]\n",
      "Fine level evaluation:\n",
      "======================\n",
      " * Micro AUPRC:           0.6254867629685286\n",
      " * Micro F1-score (@0.5): 0.4909819639278557\n",
      " * Macro AUPRC:           0.3857762522385675\n",
      " * Coarse Tag AUPRC:\n",
      "      - 1: 0.6084437663572311\n",
      "      - 2: 0.14288025423208833\n",
      "      - 3: 0.3336595526102611\n",
      "      - 4: 0.33066483112050044\n",
      "      - 5: 0.668508235927582\n",
      "      - 6: 0.1563059224638172\n",
      "      - 7: 0.8457474551970598\n",
      "      - 8: 0.0\n",
      "sys:1: DtypeWarning: Columns (40,54,59) have mixed types. Specify dtype option on import or set low_memory=False.\n",
      "evaluate_predictions.py:36: FutureWarning: Series.nonzero() is deprecated and will be removed in a future version.Use Series.to_numpy().nonzero() instead\n",
      "  thresh_0pt5_idx = (eval_df['threshold'] >= 0.5).nonzero()[0][0]\n",
      "Coarse level evaluation:\n",
      "======================\n",
      " * Micro AUPRC:           0.7687132764444584\n",
      " * Micro F1-score (@0.5): 0.5328109696376102\n",
      " * Macro AUPRC:           0.5552582865865167\n",
      " * Coarse Tag AUPRC:\n",
      "      - 1: 0.8178125638838614\n",
      "      - 2: 0.42810526358580453\n",
      "      - 3: 0.3332328931822347\n",
      "      - 4: 0.6770075945049289\n",
      "      - 5: 0.8674275089257218\n",
      "      - 6: 0.37801009220794807\n",
      "      - 7: 0.9404703764016337\n",
      "      - 8: 0.0\n"
     ]
    }
   ],
   "source": [
    "# run a command similar to this on the command line to get results  # 20190609_031224\n",
    "\n",
    "##  This is the result from /dcase/output/models_Jianyu/one-part-1-models-logmel-best6-originalmodel_rmsprop-learningratechangebiggerinCallback\n",
    "##  train_branches_20190713_1_one_part_one_model_OriginalModel_LeanringRateChangeMuchlower.py\n",
    "if not LINUX:\n",
    "    !python evaluate_predictions.py results_2019-5-6-aug.csv \"D:\\DCASE_2019\\annotations.csv\" \"D:\\DCASE_2019\\dcase-ust-taxonomy.yaml\"\n",
    "else:\n",
    "    !python evaluate_predictions.py csvs/results-20190713_112132-final.csv /dcase/datasets-dcase-2019-5/annotations.csv /dcase/datasets-dcase-2019-5/dcase-ust-taxonomy.yaml\n"
   ]
  },
  {
   "cell_type": "code",
   "execution_count": null,
   "metadata": {},
   "outputs": [],
   "source": []
  },
  {
   "cell_type": "code",
   "execution_count": null,
   "metadata": {},
   "outputs": [],
   "source": []
  },
  {
   "cell_type": "code",
   "execution_count": 28,
   "metadata": {},
   "outputs": [
    {
     "name": "stdout",
     "output_type": "stream",
     "text": [
      "sys:1: DtypeWarning: Columns (40,54,59) have mixed types. Specify dtype option on import or set low_memory=False.\n",
      "evaluate_predictions.py:36: FutureWarning: Series.nonzero() is deprecated and will be removed in a future version.Use Series.to_numpy().nonzero() instead\n",
      "  thresh_0pt5_idx = (eval_df['threshold'] >= 0.5).nonzero()[0][0]\n",
      "Fine level evaluation:\n",
      "======================\n",
      " * Micro AUPRC:           0.6352275033460464\n",
      " * Micro F1-score (@0.5): 0.473953013278856\n",
      " * Macro AUPRC:           0.3859955932100825\n",
      " * Coarse Tag AUPRC:\n",
      "      - 1: 0.6421604848641354\n",
      "      - 2: 0.14290489694838895\n",
      "      - 3: 0.3336595526102611\n",
      "      - 4: 0.28717011575218754\n",
      "      - 5: 0.6714119230258853\n",
      "      - 6: 0.1563059224638172\n",
      "      - 7: 0.8543518500159846\n",
      "      - 8: 0.0\n",
      "sys:1: DtypeWarning: Columns (40,54,59) have mixed types. Specify dtype option on import or set low_memory=False.\n",
      "evaluate_predictions.py:36: FutureWarning: Series.nonzero() is deprecated and will be removed in a future version.Use Series.to_numpy().nonzero() instead\n",
      "  thresh_0pt5_idx = (eval_df['threshold'] >= 0.5).nonzero()[0][0]\n",
      "Coarse level evaluation:\n",
      "======================\n",
      " * Micro AUPRC:           0.7687132764444584\n",
      " * Micro F1-score (@0.5): 0.5328109696376102\n",
      " * Macro AUPRC:           0.5552582865865167\n",
      " * Coarse Tag AUPRC:\n",
      "      - 1: 0.8178125638838614\n",
      "      - 2: 0.42810526358580453\n",
      "      - 3: 0.3332328931822347\n",
      "      - 4: 0.6770075945049289\n",
      "      - 5: 0.8674275089257218\n",
      "      - 6: 0.37801009220794807\n",
      "      - 7: 0.9404703764016337\n",
      "      - 8: 0.0\n"
     ]
    }
   ],
   "source": [
    "# run a command similar to this on the command line to get results  # 20190609_031224\n",
    "\n",
    "##  This is the result from /dcase/output/models_Jianyu/one-part-1-models-logmel-best6-originalmodel_rmsprop-learningratechangebiggerinCallback\n",
    "##  train_branches_20190713_1_one_part_one_model_OriginalModel_LeanringRateChangeMuchlower.py\n",
    "if not LINUX:\n",
    "    !python evaluate_predictions.py results_2019-5-6-aug.csv \"D:\\DCASE_2019\\annotations.csv\" \"D:\\DCASE_2019\\dcase-ust-taxonomy.yaml\"\n",
    "else:\n",
    "    !python evaluate_predictions.py csvs/results-20190713_103400-final.csv /dcase/datasets-dcase-2019-5/annotations.csv /dcase/datasets-dcase-2019-5/dcase-ust-taxonomy.yaml\n"
   ]
  },
  {
   "cell_type": "code",
   "execution_count": null,
   "metadata": {},
   "outputs": [],
   "source": []
  },
  {
   "cell_type": "code",
   "execution_count": null,
   "metadata": {},
   "outputs": [],
   "source": []
  },
  {
   "cell_type": "code",
   "execution_count": null,
   "metadata": {},
   "outputs": [],
   "source": []
  },
  {
   "cell_type": "code",
   "execution_count": null,
   "metadata": {},
   "outputs": [],
   "source": []
  },
  {
   "cell_type": "code",
   "execution_count": 134,
   "metadata": {},
   "outputs": [
    {
     "name": "stdout",
     "output_type": "stream",
     "text": [
      "sys:1: DtypeWarning: Columns (40,54,59) have mixed types. Specify dtype option on import or set low_memory=False.\n",
      "evaluate_predictions.py:36: FutureWarning: Series.nonzero() is deprecated and will be removed in a future version.Use Series.to_numpy().nonzero() instead\n",
      "  thresh_0pt5_idx = (eval_df['threshold'] >= 0.5).nonzero()[0][0]\n",
      "Fine level evaluation:\n",
      "======================\n",
      " * Micro AUPRC:           0.6229723518111516\n",
      " * Micro F1-score (@0.5): 0.5240431795878312\n",
      " * Macro AUPRC:           0.3858323991035093\n",
      " * Coarse Tag AUPRC:\n",
      "      - 1: 0.6533885700632551\n",
      "      - 2: 0.14369574333464583\n",
      "      - 3: 0.3336595526102611\n",
      "      - 4: 0.3425271767081513\n",
      "      - 5: 0.6799314004715553\n",
      "      - 6: 0.1563059224638172\n",
      "      - 7: 0.7771508271763885\n",
      "      - 8: 0.0\n",
      "sys:1: DtypeWarning: Columns (40,54,59) have mixed types. Specify dtype option on import or set low_memory=False.\n",
      "evaluate_predictions.py:36: FutureWarning: Series.nonzero() is deprecated and will be removed in a future version.Use Series.to_numpy().nonzero() instead\n",
      "  thresh_0pt5_idx = (eval_df['threshold'] >= 0.5).nonzero()[0][0]\n",
      "Coarse level evaluation:\n",
      "======================\n",
      " * Micro AUPRC:           0.7687132764444584\n",
      " * Micro F1-score (@0.5): 0.5328109696376102\n",
      " * Macro AUPRC:           0.5552582865865167\n",
      " * Coarse Tag AUPRC:\n",
      "      - 1: 0.8178125638838614\n",
      "      - 2: 0.42810526358580453\n",
      "      - 3: 0.3332328931822347\n",
      "      - 4: 0.6770075945049289\n",
      "      - 5: 0.8674275089257218\n",
      "      - 6: 0.37801009220794807\n",
      "      - 7: 0.9404703764016337\n",
      "      - 8: 0.0\n"
     ]
    }
   ],
   "source": [
    "#################################  this result is add to the report \n",
    "\n",
    "# run a command similar to this on the command line to get results  # 20190609_031224\n",
    "\n",
    "##  This is the result from /dcase/output/models_Jianyu/one-part-1-models-logmel-best5-rmsprop-learningratechangebiggerinCallback\n",
    "##  train_branches_20190711_2_one_part_one_model_LeanringRateChangeSlower.py\n",
    "\n",
    "if not LINUX:\n",
    "    !python evaluate_predictions.py results_2019-5-6-aug.csv \"D:\\DCASE_2019\\annotations.csv\" \"D:\\DCASE_2019\\dcase-ust-taxonomy.yaml\"\n",
    "else:\n",
    "    !python evaluate_predictions.py csvs/results-20190713_091849-final.csv /dcase/datasets-dcase-2019-5/annotations.csv /dcase/datasets-dcase-2019-5/dcase-ust-taxonomy.yaml\n"
   ]
  },
  {
   "cell_type": "code",
   "execution_count": null,
   "metadata": {},
   "outputs": [],
   "source": []
  },
  {
   "cell_type": "code",
   "execution_count": 105,
   "metadata": {},
   "outputs": [
    {
     "name": "stdout",
     "output_type": "stream",
     "text": [
      "sys:1: DtypeWarning: Columns (40,54,59) have mixed types. Specify dtype option on import or set low_memory=False.\n",
      "evaluate_predictions.py:36: FutureWarning: Series.nonzero() is deprecated and will be removed in a future version.Use Series.to_numpy().nonzero() instead\n",
      "  thresh_0pt5_idx = (eval_df['threshold'] >= 0.5).nonzero()[0][0]\n",
      "Fine level evaluation:\n",
      "======================\n",
      " * Micro AUPRC:           0.6284575730096074\n",
      " * Micro F1-score (@0.5): 0.510934393638171\n",
      " * Macro AUPRC:           0.3873667727498824\n",
      " * Coarse Tag AUPRC:\n",
      "      - 1: 0.6327825557105028\n",
      "      - 2: 0.14129364405488448\n",
      "      - 3: 0.3336595526102611\n",
      "      - 4: 0.33724274072290406\n",
      "      - 5: 0.6696385639006603\n",
      "      - 6: 0.1563059224638172\n",
      "      - 7: 0.8280112025360289\n",
      "      - 8: 0.0\n",
      "sys:1: DtypeWarning: Columns (40,54,59) have mixed types. Specify dtype option on import or set low_memory=False.\n",
      "evaluate_predictions.py:36: FutureWarning: Series.nonzero() is deprecated and will be removed in a future version.Use Series.to_numpy().nonzero() instead\n",
      "  thresh_0pt5_idx = (eval_df['threshold'] >= 0.5).nonzero()[0][0]\n",
      "Coarse level evaluation:\n",
      "======================\n",
      " * Micro AUPRC:           0.7687132764444584\n",
      " * Micro F1-score (@0.5): 0.5328109696376102\n",
      " * Macro AUPRC:           0.5552582865865167\n",
      " * Coarse Tag AUPRC:\n",
      "      - 1: 0.8178125638838614\n",
      "      - 2: 0.42810526358580453\n",
      "      - 3: 0.3332328931822347\n",
      "      - 4: 0.6770075945049289\n",
      "      - 5: 0.8674275089257218\n",
      "      - 6: 0.37801009220794807\n",
      "      - 7: 0.9404703764016337\n",
      "      - 8: 0.0\n"
     ]
    }
   ],
   "source": [
    "# run a command similar to this on the command line to get results  # 20190609_031224\n",
    "\n",
    "##  This is the result from /dcase/output/models_Jianyu/one-part-1-models-logmel-best4-rmsprop-learningratechangebiggerinCallback\n",
    "##  train_branches_20190711_2_one_part_one_model_LeanringRateChangeSlower.py\n",
    "if not LINUX:\n",
    "    !python evaluate_predictions.py results_2019-5-6-aug.csv \"D:\\DCASE_2019\\annotations.csv\" \"D:\\DCASE_2019\\dcase-ust-taxonomy.yaml\"\n",
    "else:\n",
    "    !python evaluate_predictions.py csvs/results-20190712_142756-final.csv /dcase/datasets-dcase-2019-5/annotations.csv /dcase/datasets-dcase-2019-5/dcase-ust-taxonomy.yaml"
   ]
  },
  {
   "cell_type": "code",
   "execution_count": null,
   "metadata": {},
   "outputs": [],
   "source": []
  },
  {
   "cell_type": "code",
   "execution_count": null,
   "metadata": {},
   "outputs": [],
   "source": []
  },
  {
   "cell_type": "code",
   "execution_count": 78,
   "metadata": {},
   "outputs": [
    {
     "name": "stdout",
     "output_type": "stream",
     "text": [
      "sys:1: DtypeWarning: Columns (40,54,59) have mixed types. Specify dtype option on import or set low_memory=False.\n",
      "evaluate_predictions.py:36: FutureWarning: Series.nonzero() is deprecated and will be removed in a future version.Use Series.to_numpy().nonzero() instead\n",
      "  thresh_0pt5_idx = (eval_df['threshold'] >= 0.5).nonzero()[0][0]\n",
      "Fine level evaluation:\n",
      "======================\n",
      " * Micro AUPRC:           0.6363211133162249\n",
      " * Micro F1-score (@0.5): 0.4710743801652893\n",
      " * Macro AUPRC:           0.38647299543112723\n",
      " * Coarse Tag AUPRC:\n",
      "      - 1: 0.654099839967299\n",
      "      - 2: 0.1471312850330832\n",
      "      - 3: 0.3336595526102611\n",
      "      - 4: 0.3052075983279423\n",
      "      - 5: 0.6632979242445739\n",
      "      - 6: 0.1563059224638172\n",
      "      - 7: 0.8320818408020411\n",
      "      - 8: 0.0\n",
      "sys:1: DtypeWarning: Columns (40,54,59) have mixed types. Specify dtype option on import or set low_memory=False.\n",
      "evaluate_predictions.py:36: FutureWarning: Series.nonzero() is deprecated and will be removed in a future version.Use Series.to_numpy().nonzero() instead\n",
      "  thresh_0pt5_idx = (eval_df['threshold'] >= 0.5).nonzero()[0][0]\n",
      "Coarse level evaluation:\n",
      "======================\n",
      " * Micro AUPRC:           0.7687132764444584\n",
      " * Micro F1-score (@0.5): 0.5328109696376102\n",
      " * Macro AUPRC:           0.5552582865865167\n",
      " * Coarse Tag AUPRC:\n",
      "      - 1: 0.8178125638838614\n",
      "      - 2: 0.42810526358580453\n",
      "      - 3: 0.3332328931822347\n",
      "      - 4: 0.6770075945049289\n",
      "      - 5: 0.8674275089257218\n",
      "      - 6: 0.37801009220794807\n",
      "      - 7: 0.9404703764016337\n",
      "      - 8: 0.0\n"
     ]
    }
   ],
   "source": [
    "# run a command similar to this on the command line to get results  # 20190609_031224\n",
    "\n",
    "##  This is the result from one-part-1-models-logmel-best2-rmsp -dropoutlow\n",
    "##  train_branches_20190711_2_one_part_one_model_no_dropout.py\n",
    "if not LINUX:\n",
    "    !python evaluate_predictions.py results_2019-5-6-aug.csv \"D:\\DCASE_2019\\annotations.csv\" \"D:\\DCASE_2019\\dcase-ust-taxonomy.yaml\"\n",
    "else:\n",
    "    !python evaluate_predictions.py csvs/results-20190712_133112-final.csv /dcase/datasets-dcase-2019-5/annotations.csv /dcase/datasets-dcase-2019-5/dcase-ust-taxonomy.yaml"
   ]
  },
  {
   "cell_type": "code",
   "execution_count": null,
   "metadata": {},
   "outputs": [],
   "source": []
  },
  {
   "cell_type": "code",
   "execution_count": 51,
   "metadata": {},
   "outputs": [
    {
     "name": "stdout",
     "output_type": "stream",
     "text": [
      "sys:1: DtypeWarning: Columns (40,54,59) have mixed types. Specify dtype option on import or set low_memory=False.\n",
      "evaluate_predictions.py:36: FutureWarning: Series.nonzero() is deprecated and will be removed in a future version.Use Series.to_numpy().nonzero() instead\n",
      "  thresh_0pt5_idx = (eval_df['threshold'] >= 0.5).nonzero()[0][0]\n",
      "Fine level evaluation:\n",
      "======================\n",
      " * Micro AUPRC:           0.6231496003383689\n",
      " * Micro F1-score (@0.5): 0.5010060362173039\n",
      " * Macro AUPRC:           0.38623738657528395\n",
      " * Coarse Tag AUPRC:\n",
      "      - 1: 0.6343790243886206\n",
      "      - 2: 0.16253583808623515\n",
      "      - 3: 0.3336595526102611\n",
      "      - 4: 0.32327465520753845\n",
      "      - 5: 0.6664129472290485\n",
      "      - 6: 0.1563059224638172\n",
      "      - 7: 0.8133311526167504\n",
      "      - 8: 0.0\n",
      "sys:1: DtypeWarning: Columns (40,54,59) have mixed types. Specify dtype option on import or set low_memory=False.\n",
      "evaluate_predictions.py:36: FutureWarning: Series.nonzero() is deprecated and will be removed in a future version.Use Series.to_numpy().nonzero() instead\n",
      "  thresh_0pt5_idx = (eval_df['threshold'] >= 0.5).nonzero()[0][0]\n",
      "Coarse level evaluation:\n",
      "======================\n",
      " * Micro AUPRC:           0.7687132764444584\n",
      " * Micro F1-score (@0.5): 0.5328109696376102\n",
      " * Macro AUPRC:           0.5552582865865167\n",
      " * Coarse Tag AUPRC:\n",
      "      - 1: 0.8178125638838614\n",
      "      - 2: 0.42810526358580453\n",
      "      - 3: 0.3332328931822347\n",
      "      - 4: 0.6770075945049289\n",
      "      - 5: 0.8674275089257218\n",
      "      - 6: 0.37801009220794807\n",
      "      - 7: 0.9404703764016337\n",
      "      - 8: 0.0\n"
     ]
    }
   ],
   "source": [
    "# run a command similar to this on the command line to get results  # 20190609_031224\n",
    "\n",
    "##  This is the result from one-part-1-models-logmel-best2-rmsp \n",
    "##  train_branches_20190711_2_one_part_one_model.py     optimizer = rmsprop \n",
    "if not LINUX:\n",
    "    !python evaluate_predictions.py results_2019-5-6-aug.csv \"D:\\DCASE_2019\\annotations.csv\" \"D:\\DCASE_2019\\dcase-ust-taxonomy.yaml\"\n",
    "else:\n",
    "    !python evaluate_predictions.py csvs/results-20190712_113151-final.csv /dcase/datasets-dcase-2019-5/annotations.csv /dcase/datasets-dcase-2019-5/dcase-ust-taxonomy.yaml"
   ]
  },
  {
   "cell_type": "code",
   "execution_count": null,
   "metadata": {},
   "outputs": [],
   "source": []
  },
  {
   "cell_type": "code",
   "execution_count": 27,
   "metadata": {},
   "outputs": [
    {
     "name": "stdout",
     "output_type": "stream",
     "text": [
      "sys:1: DtypeWarning: Columns (40,54,59) have mixed types. Specify dtype option on import or set low_memory=False.\n",
      "evaluate_predictions.py:36: FutureWarning: Series.nonzero() is deprecated and will be removed in a future version.Use Series.to_numpy().nonzero() instead\n",
      "  thresh_0pt5_idx = (eval_df['threshold'] >= 0.5).nonzero()[0][0]\n",
      "Fine level evaluation:\n",
      "======================\n",
      " * Micro AUPRC:           0.6361358901902983\n",
      " * Micro F1-score (@0.5): 0.4969818913480885\n",
      " * Macro AUPRC:           0.39259460285229086\n",
      " * Coarse Tag AUPRC:\n",
      "      - 1: 0.6196898192139044\n",
      "      - 2: 0.1658941086630264\n",
      "      - 3: 0.3336595526102611\n",
      "      - 4: 0.34424915961788777\n",
      "      - 5: 0.6686388310242353\n",
      "      - 6: 0.1563059224638172\n",
      "      - 7: 0.8523194292251949\n",
      "      - 8: 0.0\n",
      "sys:1: DtypeWarning: Columns (40,54,59) have mixed types. Specify dtype option on import or set low_memory=False.\n",
      "evaluate_predictions.py:36: FutureWarning: Series.nonzero() is deprecated and will be removed in a future version.Use Series.to_numpy().nonzero() instead\n",
      "  thresh_0pt5_idx = (eval_df['threshold'] >= 0.5).nonzero()[0][0]\n",
      "Coarse level evaluation:\n",
      "======================\n",
      " * Micro AUPRC:           0.7687132764444584\n",
      " * Micro F1-score (@0.5): 0.5328109696376102\n",
      " * Macro AUPRC:           0.5552582865865167\n",
      " * Coarse Tag AUPRC:\n",
      "      - 1: 0.8178125638838614\n",
      "      - 2: 0.42810526358580453\n",
      "      - 3: 0.3332328931822347\n",
      "      - 4: 0.6770075945049289\n",
      "      - 5: 0.8674275089257218\n",
      "      - 6: 0.37801009220794807\n",
      "      - 7: 0.9404703764016337\n",
      "      - 8: 0.0\n"
     ]
    }
   ],
   "source": [
    "# run a command similar to this on the command line to get results  # 20190609_031224\n",
    "\n",
    "##  This is the result from one-part-1-models-logmel-best \n",
    "##  train_branches_20190711_2_one_part_one_model.py     optimizer = adam  \n",
    "if not LINUX:\n",
    "    !python evaluate_predictions.py results_2019-5-6-aug.csv \"D:\\DCASE_2019\\annotations.csv\" \"D:\\DCASE_2019\\dcase-ust-taxonomy.yaml\"\n",
    "else:\n",
    "    !python evaluate_predictions.py csvs/results-20190712_095434-final.csv /dcase/datasets-dcase-2019-5/annotations.csv /dcase/datasets-dcase-2019-5/dcase-ust-taxonomy.yaml"
   ]
  },
  {
   "cell_type": "code",
   "execution_count": null,
   "metadata": {},
   "outputs": [],
   "source": []
  },
  {
   "cell_type": "code",
   "execution_count": null,
   "metadata": {},
   "outputs": [],
   "source": []
  },
  {
   "cell_type": "code",
   "execution_count": 25,
   "metadata": {},
   "outputs": [
    {
     "name": "stdout",
     "output_type": "stream",
     "text": [
      "sys:1: DtypeWarning: Columns (40,54,59) have mixed types. Specify dtype option on import or set low_memory=False.\n",
      "evaluate_predictions.py:36: FutureWarning: Series.nonzero() is deprecated and will be removed in a future version.Use Series.to_numpy().nonzero() instead\n",
      "  thresh_0pt5_idx = (eval_df['threshold'] >= 0.5).nonzero()[0][0]\n",
      "Fine level evaluation:\n",
      "======================\n",
      " * Micro AUPRC:           0.6560867707337048\n",
      " * Micro F1-score (@0.5): 0.3982202447163515\n",
      " * Macro AUPRC:           0.40059566061982355\n",
      " * Coarse Tag AUPRC:\n",
      "      - 1: 0.6405304300056462\n",
      "      - 2: 0.21380721739093014\n",
      "      - 3: 0.3336595526102611\n",
      "      - 4: 0.2761679795550256\n",
      "      - 5: 0.70229675965\n",
      "      - 6: 0.1563059224638172\n",
      "      - 7: 0.8819974232829082\n",
      "      - 8: 0.0\n",
      "sys:1: DtypeWarning: Columns (40,54,59) have mixed types. Specify dtype option on import or set low_memory=False.\n",
      "evaluate_predictions.py:36: FutureWarning: Series.nonzero() is deprecated and will be removed in a future version.Use Series.to_numpy().nonzero() instead\n",
      "  thresh_0pt5_idx = (eval_df['threshold'] >= 0.5).nonzero()[0][0]\n",
      "Coarse level evaluation:\n",
      "======================\n",
      " * Micro AUPRC:           0.7687132764444584\n",
      " * Micro F1-score (@0.5): 0.5328109696376102\n",
      " * Macro AUPRC:           0.5552582865865167\n",
      " * Coarse Tag AUPRC:\n",
      "      - 1: 0.8178125638838614\n",
      "      - 2: 0.42810526358580453\n",
      "      - 3: 0.3332328931822347\n",
      "      - 4: 0.6770075945049289\n",
      "      - 5: 0.8674275089257218\n",
      "      - 6: 0.37801009220794807\n",
      "      - 7: 0.9404703764016337\n",
      "      - 8: 0.0\n"
     ]
    }
   ],
   "source": [
    "# run a command similar to this on the command line to get results  # 20190609_031224\n",
    "\n",
    "##  not sure which result it comes from, maybe the /dcase/output/model/best/   since it is also June 10\n",
    "if not LINUX:\n",
    "    !python evaluate_predictions.py results_2019-5-6-aug.csv \"D:\\DCASE_2019\\annotations.csv\" \"D:\\DCASE_2019\\dcase-ust-taxonomy.yaml\"\n",
    "else:\n",
    "    !python evaluate_predictions.py csvs/results-20190610_231917-final.csv /dcase/datasets-dcase-2019-5/annotations.csv /dcase/datasets-dcase-2019-5/dcase-ust-taxonomy.yaml"
   ]
  },
  {
   "cell_type": "code",
   "execution_count": null,
   "metadata": {},
   "outputs": [],
   "source": []
  },
  {
   "cell_type": "code",
   "execution_count": null,
   "metadata": {},
   "outputs": [],
   "source": []
  },
  {
   "cell_type": "code",
   "execution_count": null,
   "metadata": {},
   "outputs": [],
   "source": []
  },
  {
   "cell_type": "code",
   "execution_count": null,
   "metadata": {},
   "outputs": [],
   "source": [
    "# python extract_embedding.py \"D:\\DCASE_2019\\annotations.csv\" $SONYC_UST_PATH/data $SONYC_UST_PATH/features $SONYC_UST_PATH/vggish"
   ]
  },
  {
   "cell_type": "code",
   "execution_count": 26,
   "metadata": {},
   "outputs": [
    {
     "name": "stdout",
     "output_type": "stream",
     "text": [
      "sys:1: DtypeWarning: Columns (40,54,59) have mixed types. Specify dtype option on import or set low_memory=False.\n",
      "evaluate_predictions.py:36: FutureWarning: Series.nonzero() is deprecated and will be removed in a future version.Use Series.to_numpy().nonzero() instead\n",
      "  thresh_0pt5_idx = (eval_df['threshold'] >= 0.5).nonzero()[0][0]\n",
      "Fine level evaluation:\n",
      "======================\n",
      " * Micro AUPRC:           0.6293865759512395\n",
      " * Micro F1-score (@0.5): 0.49899799599198397\n",
      " * Macro AUPRC:           0.39545724490363043\n",
      " * Coarse Tag AUPRC:\n",
      "      - 1: 0.6044598965450919\n",
      "      - 2: 0.20886913422339365\n",
      "      - 3: 0.3336595526102611\n",
      "      - 4: 0.3436435915466351\n",
      "      - 5: 0.6959986741419814\n",
      "      - 6: 0.1563059224638172\n",
      "      - 7: 0.8207211876978632\n",
      "      - 8: 0.0\n",
      "sys:1: DtypeWarning: Columns (40,54,59) have mixed types. Specify dtype option on import or set low_memory=False.\n",
      "evaluate_predictions.py:36: FutureWarning: Series.nonzero() is deprecated and will be removed in a future version.Use Series.to_numpy().nonzero() instead\n",
      "  thresh_0pt5_idx = (eval_df['threshold'] >= 0.5).nonzero()[0][0]\n",
      "Coarse level evaluation:\n",
      "======================\n",
      " * Micro AUPRC:           0.7687132764444584\n",
      " * Micro F1-score (@0.5): 0.5328109696376102\n",
      " * Macro AUPRC:           0.5552582865865167\n",
      " * Coarse Tag AUPRC:\n",
      "      - 1: 0.8178125638838614\n",
      "      - 2: 0.42810526358580453\n",
      "      - 3: 0.3332328931822347\n",
      "      - 4: 0.6770075945049289\n",
      "      - 5: 0.8674275089257218\n",
      "      - 6: 0.37801009220794807\n",
      "      - 7: 0.9404703764016337\n",
      "      - 8: 0.0\n"
     ]
    }
   ],
   "source": [
    "# run a command similar to this on the command line to get results  # 20190609_031224\n",
    "\n",
    "##  this is actuall  results  from  /dcase/trained-models-branches2/20190607.......\n",
    "\n",
    "\n",
    "if not LINUX:\n",
    "    !python evaluate_predictions.py results_2019-5-6-aug.csv \"D:\\DCASE_2019\\annotations.csv\" \"D:\\DCASE_2019\\dcase-ust-taxonomy.yaml\"\n",
    "else:\n",
    "    !python evaluate_predictions.py csvs/results-20190712_084152-final.csv /dcase/datasets-dcase-2019-5/annotations.csv /dcase/datasets-dcase-2019-5/dcase-ust-taxonomy.yaml"
   ]
  },
  {
   "cell_type": "code",
   "execution_count": null,
   "metadata": {},
   "outputs": [],
   "source": []
  },
  {
   "cell_type": "code",
   "execution_count": null,
   "metadata": {},
   "outputs": [],
   "source": []
  },
  {
   "cell_type": "code",
   "execution_count": null,
   "metadata": {},
   "outputs": [],
   "source": []
  }
 ],
 "metadata": {
  "kernelspec": {
   "display_name": "Python 3",
   "language": "python",
   "name": "python3"
  },
  "language_info": {
   "codemirror_mode": {
    "name": "ipython",
    "version": 3
   },
   "file_extension": ".py",
   "mimetype": "text/x-python",
   "name": "python",
   "nbconvert_exporter": "python",
   "pygments_lexer": "ipython3",
   "version": "3.7.3"
  }
 },
 "nbformat": 4,
 "nbformat_minor": 2
}
