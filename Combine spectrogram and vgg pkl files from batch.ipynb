{
 "cells": [
  {
   "cell_type": "code",
   "execution_count": null,
   "metadata": {},
   "outputs": [],
   "source": [
    "import os\n",
    "\n",
    "import gzip\n",
    "import numpy as np\n",
    "from sklearn.externals import joblib"
   ]
  },
  {
   "cell_type": "code",
   "execution_count": null,
   "metadata": {},
   "outputs": [],
   "source": [
    "dataset = 'train'  # train, validate\n",
    "base_path = \"D:/DCASE_2019/audio/augmented\"\n",
    "spec_path = os.path.join(base_path, f'audio_spec/{dataset}')\n",
    "vgg_path = os.path.join(base_path, f'vgg_embeddings/{dataset}')"
   ]
  },
  {
   "cell_type": "code",
   "execution_count": null,
   "metadata": {},
   "outputs": [],
   "source": [
    "all_spec = [os.path.join(spec_path, p) for p in os.listdir(spec_path)]\n",
    "all_vgg = [os.path.join(vgg_path, p) for p in os.listdir(vgg_path)]"
   ]
  },
  {
   "cell_type": "code",
   "execution_count": null,
   "metadata": {
    "scrolled": true
   },
   "outputs": [],
   "source": [
    "for i, spec in enumerate(all_spec):\n",
    "    if i % 100 == 0:\n",
    "        print(i, 'of', len(all_spec))\n",
    "    spec_name, ext = os.path.splitext(spec)\n",
    "    spec_name = os.path.basename(spec_name)\n",
    "    spec_name = spec_name.replace('_melspec-128_1', '')\n",
    "    save_name = os.path.join(base_path, f'spec_vgg/{dataset}/{spec_name}.pkl')\n",
    "    if not os.path.exists(save_name):\n",
    "        for vgg in all_vgg:\n",
    "            vgg_name = os.path.basename(vgg)\n",
    "            vgg_name = vgg_name.replace('.npy.gz', '')\n",
    "#             print(vgg_name, spec_name)\n",
    "#             print(spec_name)\n",
    "#             print(vgg_name)\n",
    "#             print()\n",
    "            if vgg_name == spec_name:\n",
    "                spec_pickle, spec_labels = joblib.load(spec)\n",
    "                with gzip.open(vgg) as vgg_emb:\n",
    "                    vgg_emb = np.load(vgg_emb, allow_pickle=True)\n",
    "                joblib.dump((spec_pickle, vgg_emb, spec_labels), save_name)\n",
    "                break"
   ]
  },
  {
   "cell_type": "code",
   "execution_count": null,
   "metadata": {},
   "outputs": [],
   "source": [
    "a = joblib.load(all_vgg[0])"
   ]
  },
  {
   "cell_type": "code",
   "execution_count": null,
   "metadata": {},
   "outputs": [],
   "source": [
    "a[0].shape"
   ]
  },
  {
   "cell_type": "code",
   "execution_count": null,
   "metadata": {},
   "outputs": [],
   "source": [
    "with gzip.open(all_vgg[0]) as f:\n",
    "    x = np.load(f, allow_pickle=True)"
   ]
  },
  {
   "cell_type": "code",
   "execution_count": null,
   "metadata": {},
   "outputs": [],
   "source": [
    "x.shape"
   ]
  },
  {
   "cell_type": "code",
   "execution_count": null,
   "metadata": {},
   "outputs": [],
   "source": []
  }
 ],
 "metadata": {
  "kernelspec": {
   "display_name": "Python 3",
   "language": "python",
   "name": "python3"
  },
  "language_info": {
   "codemirror_mode": {
    "name": "ipython",
    "version": 3
   },
   "file_extension": ".py",
   "mimetype": "text/x-python",
   "name": "python",
   "nbconvert_exporter": "python",
   "pygments_lexer": "ipython3",
   "version": "3.7.3"
  }
 },
 "nbformat": 4,
 "nbformat_minor": 2
}
